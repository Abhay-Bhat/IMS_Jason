{
  "nbformat": 4,
  "nbformat_minor": 0,
  "metadata": {
    "colab": {
      "name": "Inventory Management System.ipynb",
      "provenance": []
    },
    "kernelspec": {
      "name": "python3",
      "display_name": "Python 3"
    },
    "language_info": {
      "name": "python"
    }
  },
  "cells": [
    {
      "cell_type": "code",
      "metadata": {
        "id": "lnBJqvP5-tfn"
      },
      "source": [
        "ims= {123456: {\"brand\": \"MI\" , \"cost\": 11234, \"type\" : \"tablet\"},\n",
        "      789101: {\"brand\": \"Apple\", \"cost\": 115678, \"type\" : \"macbook\"},\n",
        "      112131: {\"brand\": \"oneplus\", \"cost\": 38984, \"type\" :\"smartphone\" }}"
      ],
      "execution_count": 21,
      "outputs": []
    },
    {
      "cell_type": "code",
      "metadata": {
        "colab": {
          "base_uri": "https://localhost:8080/"
        },
        "id": "0sEUrf0m7ofV",
        "outputId": "180000f2-6e78-43a1-d056-17039292cba9"
      },
      "source": [
        "reg = 123456\n",
        "\n",
        "print(ims[reg]['brand'])\n",
        "print(ims[reg]['cost'])\n",
        "print(ims[reg]['type'])"
      ],
      "execution_count": 20,
      "outputs": [
        {
          "output_type": "stream",
          "name": "stdout",
          "text": [
            "MI\n",
            "11234\n",
            "tablet\n"
          ]
        }
      ]
    },
    {
      "cell_type": "code",
      "metadata": {
        "colab": {
          "base_uri": "https://localhost:8080/"
        },
        "id": "fJRPMUd577Ls",
        "outputId": "4fadc213-6169-4a83-a6cb-fcd6df8f68cd"
      },
      "source": [
        "reg = 789101\n",
        "\n",
        "print(ims[reg]['brand'])\n",
        "print(ims[reg]['cost'])\n",
        "print(ims[reg]['type'])"
      ],
      "execution_count": 19,
      "outputs": [
        {
          "output_type": "stream",
          "name": "stdout",
          "text": [
            "Apple\n",
            "115678\n",
            "macbook\n"
          ]
        }
      ]
    },
    {
      "cell_type": "code",
      "metadata": {
        "colab": {
          "base_uri": "https://localhost:8080/"
        },
        "id": "6SQkdV3k8BkL",
        "outputId": "fe927862-d39f-49df-9f24-052889512b5d"
      },
      "source": [
        "reg = 112131\n",
        "\n",
        "print(ims[reg]['brand'])\n",
        "print(ims[reg]['cost'])\n",
        "print(ims[reg]['type'])"
      ],
      "execution_count": 18,
      "outputs": [
        {
          "output_type": "stream",
          "name": "stdout",
          "text": [
            "oneplus\n",
            "38984\n",
            "smartphone\n"
          ]
        }
      ]
    },
    {
      "cell_type": "code",
      "metadata": {
        "colab": {
          "base_uri": "https://localhost:8080/",
          "height": 52
        },
        "id": "N6KMv11A8NaX",
        "outputId": "6bc3d4c9-341b-43e3-beef-eebcc6d26ca8"
      },
      "source": [
        "import json\n",
        "js = json.dumps(ims)\n",
        "js"
      ],
      "execution_count": 17,
      "outputs": [
        {
          "output_type": "execute_result",
          "data": {
            "application/vnd.google.colaboratory.intrinsic+json": {
              "type": "string"
            },
            "text/plain": [
              "'{\"123456\": {\"brand\": \"MI\", \"cost\": 11234, \"type\": \"tablet\"}, \"789101\": {\"brand\": \"Apple\", \"cost\": 115678, \"type\": \"macbook\"}, \"112131\": {\"brand\": \"oneplus\", \"cost\": 38984, \"type\": \"smartphone\"}}'"
            ]
          },
          "metadata": {},
          "execution_count": 17
        }
      ]
    },
    {
      "cell_type": "code",
      "metadata": {
        "id": "m4lElg5q-HIL"
      },
      "source": [
        "fd = open('ims.json','r')\n",
        "\n",
        "txt = fd.read()\n",
        "\n",
        "fd.close()"
      ],
      "execution_count": 42,
      "outputs": []
    },
    {
      "cell_type": "code",
      "metadata": {
        "colab": {
          "base_uri": "https://localhost:8080/",
          "height": 52
        },
        "id": "Q2yGj_Ac-iyt",
        "outputId": "a84c2411-63ac-4d90-ddd3-29be17c3788f"
      },
      "source": [
        "txt"
      ],
      "execution_count": 26,
      "outputs": [
        {
          "output_type": "execute_result",
          "data": {
            "application/vnd.google.colaboratory.intrinsic+json": {
              "type": "string"
            },
            "text/plain": [
              "'{\"123456\": {\"brand\": \"MI\", \"cost\": 11234, \"type\": \"tablet\"}, \"789101\": {\"brand\": \"Apple\", \"cost\": 115678, \"type\": \"macbook\"}, \"112131\": {\"brand\": \"oneplus\", \"cost\": 38984, \"type\": \"smartphone\"}}'"
            ]
          },
          "metadata": {},
          "execution_count": 26
        }
      ]
    },
    {
      "cell_type": "code",
      "metadata": {
        "id": "L4XyXr-d-pPQ"
      },
      "source": [
        "fd = open(\"ims.json\",'r')\n",
        "r = fd.read()\n",
        "fd.close()\n",
        "\n",
        "ims = json.loads(r)"
      ],
      "execution_count": 41,
      "outputs": []
    },
    {
      "cell_type": "code",
      "metadata": {
        "colab": {
          "base_uri": "https://localhost:8080/"
        },
        "id": "FwY-YTTU_Yab",
        "outputId": "4d608e3b-078b-4a5a-b726-1e34c4d36728"
      },
      "source": [
        "prod_id = str(input(\"Enter product id:\"))\n",
        "brand = str(input(\"Enter name:\"))\n",
        "price= int(input(\"Enter price:\"))\n",
        "os = str(input(\"Enter os:\"))\n",
        "typ=str(input(\"Enter the type:\"))\n",
        "qn=int(input(\"Enter the quantity:\"))\n",
        "ims[prod_id] = {'brand': brand, 'price': price, 'os': os, \"type\":typ, \"qunatity\":qn}\n",
        "\n",
        "js = json.dumps(ims)\n",
        "\n",
        "fd = open(\"ims.json\",'w')\n",
        "fd.write(js)\n",
        "fd.close()"
      ],
      "execution_count": 59,
      "outputs": [
        {
          "name": "stdout",
          "output_type": "stream",
          "text": [
            "Enter product id:9638552\n",
            "Enter name:Googlebook\n",
            "Enter price:78965\n",
            "Enter os:chromeos\n",
            "Enter the type:chromebook\n",
            "Enter the quantity:16\n"
          ]
        }
      ]
    },
    {
      "cell_type": "code",
      "metadata": {
        "id": "CHYCdyXkBGPY"
      },
      "source": [
        "del ims['789101']"
      ],
      "execution_count": 45,
      "outputs": []
    },
    {
      "cell_type": "code",
      "metadata": {
        "id": "XBlKSYAZBfVf"
      },
      "source": [
        "import json\n",
        "\n",
        "fd = open(\"ims.json\",'r')\n",
        "r = fd.read()\n",
        "fd.close()\n",
        "\n",
        "records = json.loads(r)"
      ],
      "execution_count": 62,
      "outputs": []
    },
    {
      "cell_type": "code",
      "metadata": {
        "colab": {
          "base_uri": "https://localhost:8080/"
        },
        "id": "zwz785H3BnAM",
        "outputId": "ea6eb9da-abb6-4f1a-8d53-6f549243f4ea"
      },
      "source": [
        "ims"
      ],
      "execution_count": 67,
      "outputs": [
        {
          "output_type": "execute_result",
          "data": {
            "text/plain": [
              "{'112131': {'brand': 'oneplus',\n",
              "  'os': 'oneos',\n",
              "  'price': 30000,\n",
              "  'qunatity': 50,\n",
              "  'type': 'voiceassistant'},\n",
              " '123456': {'brand': 'Mi',\n",
              "  'os': 'android',\n",
              "  'price': 12000,\n",
              "  'qunatity': 100,\n",
              "  'type': 'tablet'},\n",
              " '23456': {'brand': 'vivo',\n",
              "  'os': 'linux',\n",
              "  'price': 21000,\n",
              "  'qunatity': 12,\n",
              "  'type': 'keypad'},\n",
              " '564789': {'brand': 'apple',\n",
              "  'os': 'ios',\n",
              "  'price': 100000,\n",
              "  'qunatity': 25,\n",
              "  'type': 'ipad'},\n",
              " '789101': {'brand': 'oppo',\n",
              "  'os': 'stock android',\n",
              "  'price': 15000,\n",
              "  'qunatity': 50,\n",
              "  'type': 'touch'},\n",
              " '9638552': {'brand': 'Googlebook',\n",
              "  'os': 'chromeos',\n",
              "  'price': 78965,\n",
              "  'qunatity': 16,\n",
              "  'type': 'chromebook'}}"
            ]
          },
          "metadata": {},
          "execution_count": 67
        }
      ]
    },
    {
      "cell_type": "code",
      "metadata": {
        "colab": {
          "base_uri": "https://localhost:8080/"
        },
        "id": "yKkkk97KCBzA",
        "outputId": "eee6ddf3-4e99-46ee-eba7-00291177f40d"
      },
      "source": [
        "ui_prod  = str(input(\"Enter the product_Id: \"))\n",
        "ui_quant = int(input(\"Enter the quantity: \"))\n",
        "\n",
        "\n",
        "print(\"Product: \", records[ui_prod]['brand'])\n",
        "print(\"Price: \", records[ui_prod]['price'])\n",
        "print(\"Billing Amount: \", records[ui_prod]['price'] * ui_quant)\n",
        "\n",
        "records[ui_prod]['qunatity'] = records[ui_prod]['qunatity'] - ui_quant"
      ],
      "execution_count": 69,
      "outputs": [
        {
          "output_type": "stream",
          "name": "stdout",
          "text": [
            "Enter the product_Id: 23456\n",
            "Enter the quantity: 25\n",
            "Product:  vivo\n",
            "Price:  21000\n",
            "Billing Amount:  525000\n"
          ]
        }
      ]
    },
    {
      "cell_type": "code",
      "metadata": {
        "id": "w6uqhXgbEtQX"
      },
      "source": [
        "js = json.dumps(records)\n",
        "\n",
        "fd = open(\"ims.json\",'w')\n",
        "fd.write(js)\n",
        "fd.close()"
      ],
      "execution_count": 70,
      "outputs": []
    },
    {
      "cell_type": "code",
      "metadata": {
        "colab": {
          "base_uri": "https://localhost:8080/"
        },
        "id": "8mB8YW1JEtWh",
        "outputId": "564a9d5a-b76a-407d-c205-511acebdc35b"
      },
      "source": [
        "{'prod' : ui_prod, 'qunatity' : ui_quant, 'amount': records[ui_prod]['price'] * ui_quant}"
      ],
      "execution_count": 71,
      "outputs": [
        {
          "output_type": "execute_result",
          "data": {
            "text/plain": [
              "{'amount': 525000, 'prod': '23456', 'qunatity': 25}"
            ]
          },
          "metadata": {},
          "execution_count": 71
        }
      ]
    },
    {
      "cell_type": "code",
      "metadata": {
        "id": "To7Ju7yIFByO"
      },
      "source": [
        "sales = {1 : {'prod' : ui_prod, 'qunatity' : ui_quant, 'amount': records[ui_prod]['price'] * ui_quant},\n",
        "         2 : {'prod' : ui_prod, 'qunatity' : ui_quant, 'amount': records[ui_prod]['price'] * ui_quant},\n",
        "         3 : {'prod' : ui_prod, 'qunatity' : ui_quant, 'amount': records[ui_prod]['price'] * ui_quant}}"
      ],
      "execution_count": 72,
      "outputs": []
    },
    {
      "cell_type": "code",
      "metadata": {
        "colab": {
          "base_uri": "https://localhost:8080/",
          "height": 52
        },
        "id": "vd0M8S3qFTzR",
        "outputId": "8ce2d681-61a4-453d-e6c3-0a71f4f60129"
      },
      "source": [
        "sale = json.dumps(sales)\n",
        "sale"
      ],
      "execution_count": 75,
      "outputs": [
        {
          "output_type": "execute_result",
          "data": {
            "application/vnd.google.colaboratory.intrinsic+json": {
              "type": "string"
            },
            "text/plain": [
              "'{\"1\": {\"prod\": \"23456\", \"qunatity\": 25, \"amount\": 525000}, \"2\": {\"prod\": \"23456\", \"qunatity\": 25, \"amount\": 525000}, \"3\": {\"prod\": \"23456\", \"qunatity\": 25, \"amount\": 525000}}'"
            ]
          },
          "metadata": {},
          "execution_count": 75
        }
      ]
    }
  ]
}